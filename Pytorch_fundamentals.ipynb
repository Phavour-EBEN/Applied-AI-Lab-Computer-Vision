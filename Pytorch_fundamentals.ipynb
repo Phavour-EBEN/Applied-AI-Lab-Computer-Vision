{
 "cells": [
  {
   "cell_type": "code",
   "execution_count": 3,
   "metadata": {},
   "outputs": [
    {
     "ename": "ModuleNotFoundError",
     "evalue": "No module named 'torchvision'",
     "output_type": "error",
     "traceback": [
      "\u001b[31m---------------------------------------------------------------------------\u001b[39m",
      "\u001b[31mModuleNotFoundError\u001b[39m                       Traceback (most recent call last)",
      "\u001b[36mCell\u001b[39m\u001b[36m \u001b[39m\u001b[32mIn[3]\u001b[39m\u001b[32m, line 9\u001b[39m\n\u001b[32m      7\u001b[39m \u001b[38;5;28;01mimport\u001b[39;00m\u001b[38;5;250m \u001b[39m\u001b[34;01mtorch\u001b[39;00m\n\u001b[32m      8\u001b[39m \u001b[38;5;28;01mfrom\u001b[39;00m\u001b[38;5;250m \u001b[39m\u001b[34;01mPIL\u001b[39;00m\u001b[38;5;250m \u001b[39m\u001b[38;5;28;01mimport\u001b[39;00m Image\n\u001b[32m----> \u001b[39m\u001b[32m9\u001b[39m \u001b[38;5;28;01mimport\u001b[39;00m\u001b[38;5;250m \u001b[39m\u001b[34;01mtorchvision\u001b[39;00m\n\u001b[32m     10\u001b[39m \u001b[38;5;28;01mfrom\u001b[39;00m\u001b[38;5;250m \u001b[39m\u001b[34;01mtorchvision\u001b[39;00m\u001b[38;5;250m \u001b[39m\u001b[38;5;28;01mimport\u001b[39;00m transforms\n",
      "\u001b[31mModuleNotFoundError\u001b[39m: No module named 'torchvision'"
     ]
    }
   ],
   "source": [
    "import os\n",
    "import sys\n",
    "\n",
    "import pandas as pd\n",
    "import numpy as np\n",
    "import matplotlib as plt\n",
    "import torch\n",
    "from PIL import Image\n",
    "import torchvision\n",
    "from torchvision import transforms"
   ]
  },
  {
   "cell_type": "code",
   "execution_count": null,
   "metadata": {},
   "outputs": [
    {
     "name": "stdout",
     "output_type": "stream",
     "text": [
      "Pandas version: 2.2.3\n",
      "Numpy version: 2.2.1\n",
      "Matplotlib version: 3.10.0\n",
      "Torch version: 2.6.0+cpu\n",
      "Torchvision version: 0.21.0+cpu\n"
     ]
    }
   ],
   "source": [
    "print('Pandas version:', pd.__version__)\n",
    "print('Numpy version:', np.__version__)\n",
    "print('Matplotlib version:', plt.__version__)\n",
    "print('Torch version:', torch.__version__)\n",
    "print('Torchvision version:', torchvision.__version__)\n"
   ]
  },
  {
   "cell_type": "code",
   "execution_count": null,
   "metadata": {},
   "outputs": [
    {
     "name": "stdout",
     "output_type": "stream",
     "text": [
      "tensor([[ 1.,  2.,  3.,  4.,  5.],\n",
      "        [ 6.,  7.,  8.,  9., 10.],\n",
      "        [11., 12., 13., 14., 15.]])\n"
     ]
    }
   ],
   "source": [
    "mylist = [[1, 2, 3, 4, 5], [6, 7, 8, 9, 10], [11, 12, 13, 14, 15]]\n",
    "myTensor = torch.Tensor(mylist)\n",
    "\n",
    "print(myTensor)"
   ]
  },
  {
   "cell_type": "code",
   "execution_count": null,
   "metadata": {},
   "outputs": [
    {
     "name": "stdout",
     "output_type": "stream",
     "text": [
      "2\n",
      "torch.Size([3, 5])\n",
      "torch.float32\n"
     ]
    }
   ],
   "source": [
    "# checkin the dimensional and the sixe of the tensor\n",
    "print(myTensor.ndimension())    \n",
    "print(myTensor.shape)\n",
    "print(myTensor.dtype)"
   ]
  },
  {
   "cell_type": "code",
   "execution_count": null,
   "metadata": {},
   "outputs": [
    {
     "data": {
      "text/plain": [
       "device(type='cpu')"
      ]
     },
     "execution_count": 6,
     "metadata": {},
     "output_type": "execute_result"
    }
   ],
   "source": [
    "myTensor.device"
   ]
  },
  {
   "cell_type": "code",
   "execution_count": null,
   "metadata": {},
   "outputs": [
    {
     "name": "stdout",
     "output_type": "stream",
     "text": [
      "False\n",
      "False\n"
     ]
    }
   ],
   "source": [
    "fgpus = torch.cuda.is_available()\n",
    "\n",
    "mps_gpus = torch.backends.mps.is_available()\n",
    "\n",
    "print(fgpus)\n",
    "print(mps_gpus)"
   ]
  },
  {
   "cell_type": "code",
   "execution_count": null,
   "metadata": {},
   "outputs": [
    {
     "name": "stdout",
     "output_type": "stream",
     "text": [
      "tensor([[ 1.,  2.,  3.,  4.,  5.],\n",
      "        [ 6.,  7.,  8.,  9., 10.]])\n",
      "tensor([[ 6.,  7.,  8.,  9., 10.],\n",
      "        [11., 12., 13., 14., 15.]])\n"
     ]
    }
   ],
   "source": [
    "# slicing the tensor\n",
    "leftTensor = myTensor[:2, :]\n",
    "rightTensor = myTensor[1:, :]\n",
    "\n",
    "print(leftTensor)\n",
    "print(rightTensor)"
   ]
  },
  {
   "cell_type": "code",
   "execution_count": null,
   "metadata": {},
   "outputs": [
    {
     "name": "stdout",
     "output_type": "stream",
     "text": [
      "tensor([[  6.,  14.,  24.,  36.,  50.],\n",
      "        [ 66.,  84., 104., 126., 150.]])\n",
      "tensor([[ 7.,  9., 11., 13., 15.],\n",
      "        [17., 19., 21., 23., 25.]])\n",
      "tensor([[  6.,  14.,  24.,  36.,  50.],\n",
      "        [ 66.,  84., 104., 126., 150.]])\n",
      "tensor([[ 7.,  9., 11., 13., 15.],\n",
      "        [17., 19., 21., 23., 25.]])\n"
     ]
    }
   ],
   "source": [
    "# Performing element wise multiplication and addition\n",
    "ew_mulTensor = leftTensor * rightTensor\n",
    "ew_addTensor = leftTensor + rightTensor\n",
    "\n",
    "# using the in-built functions\n",
    "mulTensor = leftTensor.mul(rightTensor)\n",
    "addTensor = leftTensor.add(rightTensor)\n",
    "\n",
    "print(ew_mulTensor)\n",
    "print(ew_addTensor)\n",
    "print(mulTensor)\n",
    "print(addTensor)"
   ]
  },
  {
   "cell_type": "code",
   "execution_count": null,
   "metadata": {},
   "outputs": [
    {
     "name": "stdout",
     "output_type": "stream",
     "text": [
      "torch.Size([2, 2])\n",
      "torch.Size([2, 1])\n",
      "tensor([[ 43.],\n",
      "        [178.]])\n"
     ]
    }
   ],
   "source": [
    "newLleftTensor = torch.Tensor([[1, 2], [6, 7]])\n",
    "newRightTensor = torch.Tensor([[11],[16]])\n",
    "\n",
    "print(newLleftTensor.shape)\n",
    "print(newRightTensor.shape)\n",
    "\n",
    "# matrix multiplication\n",
    "matmulTensor = newLleftTensor.matmul(newRightTensor)\n",
    "print(matmulTensor)"
   ]
  },
  {
   "cell_type": "code",
   "execution_count": null,
   "metadata": {},
   "outputs": [
    {
     "name": "stdout",
     "output_type": "stream",
     "text": [
      "tensor(4.)\n",
      "torch.Size([])\n"
     ]
    }
   ],
   "source": [
    "myTensor.mean()\n",
    "print(newLleftTensor.mean())\n",
    "print(newLleftTensor.mean().shape)"
   ]
  },
  {
   "cell_type": "code",
   "execution_count": null,
   "metadata": {},
   "outputs": [],
   "source": []
  }
 ],
 "metadata": {
  "kernelspec": {
   "display_name": "Python 3",
   "language": "python",
   "name": "python3"
  },
  "language_info": {
   "codemirror_mode": {
    "name": "ipython",
    "version": 3
   },
   "file_extension": ".py",
   "mimetype": "text/x-python",
   "name": "python",
   "nbconvert_exporter": "python",
   "pygments_lexer": "ipython3",
   "version": "3.11.0"
  }
 },
 "nbformat": 4,
 "nbformat_minor": 2
}
