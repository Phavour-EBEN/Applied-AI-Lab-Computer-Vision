{
  "cells": [
    {
      "cell_type": "code",
      "execution_count": 1,
      "metadata": {
        "id": "85gmKS0hnD-b"
      },
      "outputs": [],
      "source": [
        "import os\n",
        "import sys\n",
        "import pandas as pd\n",
        "import numpy as np\n",
        "import matplotlib as plt\n",
        "import torch\n",
        "from PIL import Image\n",
        "import torchvision\n",
        "from torchvision import transforms"
      ]
    },
    {
      "cell_type": "code",
      "execution_count": null,
      "metadata": {
        "id": "p0sf0nNynD-f",
        "outputId": "b02d6e13-075f-4f83-d018-0937a009eab5"
      },
      "outputs": [
        {
          "name": "stdout",
          "output_type": "stream",
          "text": [
            "Pandas version: 2.2.3\n",
            "Numpy version: 2.2.1\n",
            "Matplotlib version: 3.10.0\n",
            "Torch version: 2.6.0+cpu\n",
            "Torchvision version: 0.21.0+cpu\n"
          ]
        }
      ],
      "source": [
        "print('Pandas version:', pd.__version__)\n",
        "print('Numpy version:', np.__version__)\n",
        "print('Matplotlib version:', plt.__version__)\n",
        "print('Torch version:', torch.__version__)\n",
        "print('Torchvision version:', torchvision.__version__)\n"
      ]
    },
    {
      "cell_type": "code",
      "execution_count": 2,
      "metadata": {
        "colab": {
          "base_uri": "https://localhost:8080/"
        },
        "id": "lX2kU6CDnD-g",
        "outputId": "aeab8ba7-20cd-4903-fece-226f8534c7a0"
      },
      "outputs": [
        {
          "output_type": "stream",
          "name": "stdout",
          "text": [
            "tensor([[ 1.,  2.,  3.,  4.,  5.],\n",
            "        [ 6.,  7.,  8.,  9., 10.],\n",
            "        [11., 12., 13., 14., 15.]])\n"
          ]
        }
      ],
      "source": [
        "mylist = [[1, 2, 3, 4, 5], [6, 7, 8, 9, 10], [11, 12, 13, 14, 15]]\n",
        "myTensor = torch.Tensor(mylist)\n",
        "\n",
        "print(myTensor)"
      ]
    },
    {
      "cell_type": "code",
      "execution_count": 3,
      "metadata": {
        "colab": {
          "base_uri": "https://localhost:8080/"
        },
        "id": "6QcSQBQvnD-h",
        "outputId": "9fed9c99-9faa-4658-f185-8d144b5a38d8"
      },
      "outputs": [
        {
          "output_type": "stream",
          "name": "stdout",
          "text": [
            "2\n",
            "torch.Size([3, 5])\n",
            "torch.float32\n"
          ]
        }
      ],
      "source": [
        "# checkin the dimensional and the sixe of the tensor\n",
        "print(myTensor.ndimension())\n",
        "print(myTensor.shape)\n",
        "print(myTensor.dtype)"
      ]
    },
    {
      "cell_type": "code",
      "execution_count": 4,
      "metadata": {
        "colab": {
          "base_uri": "https://localhost:8080/"
        },
        "id": "L-xWPfOFnD-h",
        "outputId": "05a721b1-ec37-42a3-ae9d-b2986423e070"
      },
      "outputs": [
        {
          "output_type": "execute_result",
          "data": {
            "text/plain": [
              "device(type='cpu')"
            ]
          },
          "metadata": {},
          "execution_count": 4
        }
      ],
      "source": [
        "myTensor.device"
      ]
    },
    {
      "cell_type": "code",
      "execution_count": 5,
      "metadata": {
        "colab": {
          "base_uri": "https://localhost:8080/"
        },
        "id": "0KPXJpYBnD-i",
        "outputId": "7871cac0-1b2f-44a5-e8f4-451920f1634c"
      },
      "outputs": [
        {
          "output_type": "stream",
          "name": "stdout",
          "text": [
            "False\n",
            "False\n"
          ]
        }
      ],
      "source": [
        "fgpus = torch.cuda.is_available()\n",
        "\n",
        "mps_gpus = torch.backends.mps.is_available()\n",
        "\n",
        "print(fgpus)\n",
        "print(mps_gpus)"
      ]
    },
    {
      "cell_type": "code",
      "execution_count": 6,
      "metadata": {
        "colab": {
          "base_uri": "https://localhost:8080/"
        },
        "id": "6WXWN93HnD-j",
        "outputId": "688da00e-e767-4028-e7e5-9b3bd182fd4c"
      },
      "outputs": [
        {
          "output_type": "stream",
          "name": "stdout",
          "text": [
            "tensor([[ 1.,  2.,  3.,  4.,  5.],\n",
            "        [ 6.,  7.,  8.,  9., 10.]])\n",
            "tensor([[ 6.,  7.,  8.,  9., 10.],\n",
            "        [11., 12., 13., 14., 15.]])\n"
          ]
        }
      ],
      "source": [
        "# slicing the tensor\n",
        "leftTensor = myTensor[:2, :]\n",
        "rightTensor = myTensor[1:, :]\n",
        "\n",
        "print(leftTensor)\n",
        "print(rightTensor)"
      ]
    },
    {
      "cell_type": "code",
      "execution_count": 7,
      "metadata": {
        "colab": {
          "base_uri": "https://localhost:8080/"
        },
        "id": "o3Aa1khnnD-k",
        "outputId": "1161eb35-37c7-4747-eee5-bc45f76c6bf8"
      },
      "outputs": [
        {
          "output_type": "stream",
          "name": "stdout",
          "text": [
            "tensor([[  6.,  14.,  24.,  36.,  50.],\n",
            "        [ 66.,  84., 104., 126., 150.]])\n",
            "tensor([[ 7.,  9., 11., 13., 15.],\n",
            "        [17., 19., 21., 23., 25.]])\n",
            "tensor([[  6.,  14.,  24.,  36.,  50.],\n",
            "        [ 66.,  84., 104., 126., 150.]])\n",
            "tensor([[ 7.,  9., 11., 13., 15.],\n",
            "        [17., 19., 21., 23., 25.]])\n"
          ]
        }
      ],
      "source": [
        "# Performing element wise multiplication and addition\n",
        "ew_mulTensor = leftTensor * rightTensor\n",
        "ew_addTensor = leftTensor + rightTensor\n",
        "\n",
        "# using the in-built functions\n",
        "mulTensor = leftTensor.mul(rightTensor)\n",
        "addTensor = leftTensor.add(rightTensor)\n",
        "\n",
        "print(ew_mulTensor)\n",
        "print(ew_addTensor)\n",
        "print(mulTensor)\n",
        "print(addTensor)"
      ]
    },
    {
      "cell_type": "code",
      "execution_count": 8,
      "metadata": {
        "colab": {
          "base_uri": "https://localhost:8080/"
        },
        "id": "tKjq4J27nD-l",
        "outputId": "6b3eb30c-c7ba-45da-ee19-81e52efa6ec5"
      },
      "outputs": [
        {
          "output_type": "stream",
          "name": "stdout",
          "text": [
            "torch.Size([2, 2])\n",
            "torch.Size([2, 1])\n",
            "tensor([[ 43.],\n",
            "        [178.]])\n"
          ]
        }
      ],
      "source": [
        "newLleftTensor = torch.Tensor([[1, 2], [6, 7]])\n",
        "newRightTensor = torch.Tensor([[11],[16]])\n",
        "\n",
        "print(newLleftTensor.shape)\n",
        "print(newRightTensor.shape)\n",
        "\n",
        "# matrix multiplication\n",
        "matmulTensor = newLleftTensor.matmul(newRightTensor)\n",
        "print(matmulTensor)"
      ]
    },
    {
      "cell_type": "code",
      "execution_count": 9,
      "metadata": {
        "colab": {
          "base_uri": "https://localhost:8080/"
        },
        "id": "c4XFLYiHnD-m",
        "outputId": "2b24d986-7a83-4a4c-e61f-b99fddc03835"
      },
      "outputs": [
        {
          "output_type": "stream",
          "name": "stdout",
          "text": [
            "tensor(4.)\n",
            "torch.Size([])\n"
          ]
        }
      ],
      "source": [
        "myTensor.mean()\n",
        "print(newLleftTensor.mean())\n",
        "print(newLleftTensor.mean().shape)"
      ]
    },
    {
      "cell_type": "code",
      "execution_count": 27,
      "metadata": {
        "colab": {
          "base_uri": "https://localhost:8080/"
        },
        "id": "YfwcCb1fnD-m",
        "outputId": "66435802-14af-4b9b-b400-b39cdd81522d"
      },
      "outputs": [
        {
          "output_type": "stream",
          "name": "stdout",
          "text": [
            "Parameter containing:\n",
            "tensor([[ 0.3419,  0.3712, -0.1048,  0.4108, -0.0980],\n",
            "        [ 0.0902, -0.2177,  0.2626,  0.3942, -0.3281],\n",
            "        [ 0.3887,  0.0837,  0.3304,  0.0606,  0.2156]], requires_grad=True)\n",
            "Parameter containing:\n",
            "tensor([-0.0631,  0.3448,  0.0661], requires_grad=True)\n"
          ]
        }
      ],
      "source": [
        "torch.manual_seed(42)\n",
        "\n",
        "linear= torch.nn.Linear(in_features=5,out_features=3)\n",
        "print(linear.weight)\n",
        "print(linear.bias)"
      ]
    },
    {
      "cell_type": "code",
      "source": [
        "input = myTensor\n",
        "input"
      ],
      "metadata": {
        "colab": {
          "base_uri": "https://localhost:8080/"
        },
        "id": "KdaNc931o1pj",
        "outputId": "99c84c29-7543-4f8a-9b83-2e3319312661"
      },
      "execution_count": 28,
      "outputs": [
        {
          "output_type": "execute_result",
          "data": {
            "text/plain": [
              "tensor([[ 1.,  2.,  3.,  4.,  5.],\n",
              "        [ 6.,  7.,  8.,  9., 10.],\n",
              "        [11., 12., 13., 14., 15.]])"
            ]
          },
          "metadata": {},
          "execution_count": 28
        }
      ]
    },
    {
      "cell_type": "code",
      "source": [
        "output = linear(input)\n",
        "output"
      ],
      "metadata": {
        "colab": {
          "base_uri": "https://localhost:8080/"
        },
        "id": "dugG-LYYqdMJ",
        "outputId": "ce1c24d3-ffd2-4a04-a9b9-045a8f7f5272"
      },
      "execution_count": 29,
      "outputs": [
        {
          "output_type": "execute_result",
          "data": {
            "text/plain": [
              "tensor([[ 1.8602,  0.7240,  2.9339],\n",
              "        [ 6.4660,  1.7305,  8.3291],\n",
              "        [11.0718,  2.7370, 13.7242]], grad_fn=<AddmmBackward0>)"
            ]
          },
          "metadata": {},
          "execution_count": 29
        }
      ]
    },
    {
      "cell_type": "code",
      "source": [
        "print(input.shape), print(output.shape)"
      ],
      "metadata": {
        "colab": {
          "base_uri": "https://localhost:8080/"
        },
        "id": "vDIq_bCAq-IR",
        "outputId": "f4168845-3710-430d-9da9-dc8a2e43f2ff"
      },
      "execution_count": 30,
      "outputs": [
        {
          "output_type": "stream",
          "name": "stdout",
          "text": [
            "torch.Size([3, 5])\n",
            "torch.Size([3, 3])\n"
          ]
        },
        {
          "output_type": "execute_result",
          "data": {
            "text/plain": [
              "(None, None)"
            ]
          },
          "metadata": {},
          "execution_count": 30
        }
      ]
    },
    {
      "cell_type": "code",
      "source": [
        "# aggegation\n",
        "print(output.argmax())\n",
        "print(input.argmin())"
      ],
      "metadata": {
        "colab": {
          "base_uri": "https://localhost:8080/"
        },
        "id": "joHXc68krcEi",
        "outputId": "8ecfb4d5-5e97-4875-e5a2-66c3bc6b9e8a"
      },
      "execution_count": 31,
      "outputs": [
        {
          "output_type": "stream",
          "name": "stdout",
          "text": [
            "tensor(8)\n",
            "tensor(0)\n"
          ]
        }
      ]
    },
    {
      "cell_type": "code",
      "source": [
        "output.max()"
      ],
      "metadata": {
        "colab": {
          "base_uri": "https://localhost:8080/"
        },
        "id": "J8u8f23uyv1L",
        "outputId": "da736f5a-c75e-4331-b4cb-f1c5565cfd24"
      },
      "execution_count": 32,
      "outputs": [
        {
          "output_type": "execute_result",
          "data": {
            "text/plain": [
              "tensor(13.7242, grad_fn=<MaxBackward1>)"
            ]
          },
          "metadata": {},
          "execution_count": 32
        }
      ]
    },
    {
      "cell_type": "code",
      "source": [
        "torch.reshape(input, (1, -1))"
      ],
      "metadata": {
        "colab": {
          "base_uri": "https://localhost:8080/"
        },
        "id": "gmPQjqz4zJpk",
        "outputId": "35969dfa-635e-4e75-f2f4-f4c0c4047ce5"
      },
      "execution_count": 38,
      "outputs": [
        {
          "output_type": "execute_result",
          "data": {
            "text/plain": [
              "tensor([[ 1.,  2.,  3.,  4.,  5.,  6.,  7.,  8.,  9., 10., 11., 12., 13., 14.,\n",
              "         15.]])"
            ]
          },
          "metadata": {},
          "execution_count": 38
        }
      ]
    },
    {
      "cell_type": "code",
      "source": [
        "input.view((5,3))"
      ],
      "metadata": {
        "colab": {
          "base_uri": "https://localhost:8080/"
        },
        "id": "KrNZ-tdo12QD",
        "outputId": "a0500ab2-f49b-462f-81c8-4536e7f6cb51"
      },
      "execution_count": 45,
      "outputs": [
        {
          "output_type": "execute_result",
          "data": {
            "text/plain": [
              "tensor([[ 1.,  2.,  3.],\n",
              "        [ 4.,  5.,  6.],\n",
              "        [ 7.,  8.,  9.],\n",
              "        [10., 11., 12.],\n",
              "        [13., 14., 15.]])"
            ]
          },
          "metadata": {},
          "execution_count": 45
        }
      ]
    },
    {
      "cell_type": "code",
      "source": [],
      "metadata": {
        "id": "iBzZCJtx7OWc"
      },
      "execution_count": null,
      "outputs": []
    }
  ],
  "metadata": {
    "kernelspec": {
      "display_name": "Python 3",
      "language": "python",
      "name": "python3"
    },
    "language_info": {
      "codemirror_mode": {
        "name": "ipython",
        "version": 3
      },
      "file_extension": ".py",
      "mimetype": "text/x-python",
      "name": "python",
      "nbconvert_exporter": "python",
      "pygments_lexer": "ipython3",
      "version": "3.11.0"
    },
    "colab": {
      "provenance": []
    }
  },
  "nbformat": 4,
  "nbformat_minor": 0
}